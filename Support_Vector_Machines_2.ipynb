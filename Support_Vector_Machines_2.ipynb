{
  "cells": [
    {
      "cell_type": "markdown",
      "metadata": {
        "id": "0_6codqFnXgi"
      },
      "source": [
        "# SVM for classification, without and with kernels\n",
        "\n",
        "In this notebook we are going to explore the use of Support Vector Machines (SVMs) for image classification. We are going to use the famous MNIST dataset, that is a dataset of handwritten digits. We get the data from mldata.org, that is a public repository for machine learning data.\n",
        "\n",
        "The dataset consists of 70,000 images of handwritten digits (i.e., 0, 1, ... 9). Each image is 28 pixels by 28 pixels and we can think of it as a vector of 28x28 = 784 numbers. Each number is an integer between 0 and 255. For each image we have the corresponding label (i.e., 0, 1, ..., 9)."
      ]
    },
    {
      "cell_type": "code",
      "source": [
        "# Set your student number\n",
        "student_number = 98101736\n",
        "Name = 'Ali'\n",
        "Last_Name = 'Aramideh'"
      ],
      "metadata": {
        "id": "0327Wyqqr4y1"
      },
      "execution_count": 28,
      "outputs": []
    },
    {
      "cell_type": "code",
      "execution_count": 6,
      "metadata": {
        "id": "w7owrXabnXgn"
      },
      "outputs": [],
      "source": [
        "#load the required packages\n",
        "\n",
        "%matplotlib inline\n",
        "\n",
        "import numpy as np\n",
        "import matplotlib.pyplot as plt\n",
        "\n",
        "import sklearn\n",
        "from sklearn.datasets import fetch_openml"
      ]
    },
    {
      "cell_type": "markdown",
      "metadata": {
        "id": "f1Q2n9z_nXgr"
      },
      "source": [
        "Now let's load the dataset. 'data' contains the input, 'target' contains the label. We normalize the data by dividing each value by 255 so that each value is in [0,1]"
      ]
    },
    {
      "cell_type": "code",
      "execution_count": 11,
      "metadata": {
        "id": "Zn7ErChanXgs",
        "colab": {
          "base_uri": "https://localhost:8080/"
        },
        "outputId": "c4bb1e64-4ee1-42d6-a732-ba67cbec100e"
      },
      "outputs": [
        {
          "output_type": "stream",
          "name": "stderr",
          "text": [
            "/usr/local/lib/python3.10/dist-packages/sklearn/datasets/_openml.py:968: FutureWarning: The default value of `parser` will change from `'liac-arff'` to `'auto'` in 1.4. You can set `parser='auto'` to silence this warning. Therefore, an `ImportError` will be raised from 1.4 if the dataset is dense and pandas is not installed. Note that the pandas parser may return different data types. See the Notes Section in fetch_openml's API doc for details.\n",
            "  warn(\n"
          ]
        }
      ],
      "source": [
        "# TODO: Normalize MNIST dataset and rescale the data\n",
        "# Load the MNIST dataset and normalize the features so that each value is in the range [0,1]\n",
        "mnist = fetch_openml('mnist_784', version=1)\n",
        "# Rescale the data\n",
        "X, y = mnist.data.to_numpy() / 255., mnist.target.to_numpy()"
      ]
    },
    {
      "cell_type": "markdown",
      "metadata": {
        "id": "THXcR9T1nXgu"
      },
      "source": [
        "Now split into training and test. We keep 500 samples in the training set. Make sure that each label is present at least 10 times\n",
        "in training. If it is not, then keep adding permutations to the initial data until this\n",
        "happens.\n",
        "\n",
        "**IMPORTANT**: if you cannot run the SVM with 500 samples or 1000 samples (see below), try with a smaller number of samples (e.g. 200 here and 400 below)."
      ]
    },
    {
      "cell_type": "code",
      "execution_count": 12,
      "metadata": {
        "id": "mK2rPXy3nXgv",
        "colab": {
          "base_uri": "https://localhost:8080/"
        },
        "outputId": "ce1e6b80-3c42-4c1b-f1cf-fe661590cb22"
      },
      "outputs": [
        {
          "output_type": "stream",
          "name": "stdout",
          "text": [
            "Labels and their frequencies in the training dataset: \n",
            "0: 60\n",
            "1: 53\n",
            "2: 41\n",
            "3: 57\n",
            "4: 52\n",
            "5: 42\n",
            "6: 36\n",
            "7: 50\n",
            "8: 62\n",
            "9: 47\n"
          ]
        }
      ],
      "source": [
        "# Randomly permute the data and split it into training and test sets, taking the first 500\n",
        "# data samples as training and the rest as test.\n",
        "permutation = np.random.permutation(X.shape[0])\n",
        "\n",
        "X = X[permutation]\n",
        "y = y[permutation]\n",
        "\n",
        "m_training = 500\n",
        "\n",
        "X_train, X_test = X[:m_training], X[m_training:]\n",
        "y_train, y_test = y[:m_training], y[m_training:]\n",
        "\n",
        "# Print the labels and their frequencies in the training dataset.\n",
        "print(\"Labels and their frequencies in the training dataset: \")\n",
        "unique_labels, label_counts = np.unique(y_train, return_counts=True)\n",
        "for label, count in zip(unique_labels, label_counts):\n",
        "    print(f\"{label}: {count}\")"
      ]
    },
    {
      "cell_type": "markdown",
      "metadata": {
        "id": "45ksUODunXgw"
      },
      "source": [
        "We now provide a function to print an image in a dataset, the corresponding true label, and the index of the image in the dataset."
      ]
    },
    {
      "cell_type": "code",
      "source": [
        "def plot_digit(X_matrix, labels, index):\n",
        "    \"\"\"\n",
        "    Plots a digit from the X_matrix and prints the corresponding label.\n",
        "    Args:\n",
        "    X_matrix (numpy.ndarray): Matrix of digit images.\n",
        "    labels (numpy.ndarray): Array of digit labels.\n",
        "    index (int): Index of the digit to plot and print.\n",
        "    \"\"\"\n",
        "    print(\"INPUT:\")\n",
        "    plt.imshow(\n",
        "        X_matrix[index].reshape(28,28),\n",
        "        cmap          = plt.cm.gray_r,\n",
        "        interpolation = \"nearest\"\n",
        "    )\n",
        "    plt.show()\n",
        "    print(\"LABEL: %s\" % labels[index])"
      ],
      "metadata": {
        "id": "TeXh2BpHrd-5"
      },
      "execution_count": 15,
      "outputs": []
    },
    {
      "cell_type": "markdown",
      "metadata": {
        "id": "JEDj_SMOnXgz"
      },
      "source": [
        "As an example, let's print the 100-th image in X_train and the 40,000-th image in X_test and their true labels."
      ]
    },
    {
      "cell_type": "code",
      "execution_count": 16,
      "metadata": {
        "id": "9USuS-ztnXg1",
        "colab": {
          "base_uri": "https://localhost:8080/",
          "height": 912
        },
        "outputId": "ae242c73-0b49-46f4-d0a4-37aff7031daa"
      },
      "outputs": [
        {
          "output_type": "stream",
          "name": "stdout",
          "text": [
            "INPUT:\n"
          ]
        },
        {
          "output_type": "display_data",
          "data": {
            "text/plain": [
              "<Figure size 640x480 with 1 Axes>"
            ],
            "image/png": "[encoded data removed]"
          },
          "metadata": {}
        },
        {
          "output_type": "stream",
          "name": "stdout",
          "text": [
            "LABEL: 7\n",
            "INPUT:\n"
          ]
        },
        {
          "output_type": "display_data",
          "data": {
            "text/plain": [
              "<Figure size 640x480 with 1 Axes>"
            ],
            "image/png": "[encoded data removed]"
          },
          "metadata": {}
        },
        {
          "output_type": "stream",
          "name": "stdout",
          "text": [
            "LABEL: 5\n"
          ]
        }
      ],
      "source": [
        "# Plot the 100th digit in the training set\n",
        "plot_digit(X_train, y_train, 100)\n",
        "\n",
        "# Plot the 40,000th digit in the test set\n",
        "plot_digit(X_test, y_test,40000)"
      ]
    },
    {
      "cell_type": "markdown",
      "metadata": {
        "id": "dp9-uKtFnXg4"
      },
      "source": [
        "## Section 1\n",
        "Run SVM with cross validation to pick a kernel and values of parameters. Use a 5-fold cross-validation to pick the best kernel and choice of parameters. We provide some potential choice for parameters, but change the grid if needed (e.g., it takes too long). For the SVM for classification use SVC from sklearn.svm; for the grid search we suggest you use GridSearchCV from sklearn.model_selection, but you can implement your own cross-validation for model selection if you prefer.\n",
        "\n",
        "Print the best parameters used as well as the score obtained by the best model"
      ]
    },
    {
      "cell_type": "code",
      "source": [
        "# Import the Support Vector Classifier (SVC) and GridSearchCV modules\n",
        "from sklearn.svm import SVC\n",
        "from sklearn.model_selection import GridSearchCV\n",
        "\n",
        "# Set the parameters for the linear SVM\n",
        "parameters = {'C': [1, 10, 100]}\n",
        "\n",
        "# Create a linear SVM object\n",
        "linear_SVM = SVC(kernel='linear')\n",
        "\n",
        "# TO DO: Find the best model using 5-fold cross-validation and train it using all the training data\n",
        "grid_search = GridSearchCV(linear_SVM, parameters, cv=5)\n",
        "grid_search.fit(X_train, y_train)\n",
        "best_model = grid_search.best_estimator_\n",
        "\n",
        "# Print the results for the linear kernel\n",
        "print('RESULTS FOR LINEAR KERNEL\\n')\n",
        "\n",
        "print(\"Best parameters set found:\")\n",
        "# TO DO\n",
        "print(grid_search.best_params_)\n",
        "\n",
        "print(\"Score with best parameters:\")\n",
        "# TO DO\n",
        "print(grid_search.best_score_)\n",
        "\n",
        "print(\"\\nAll scores on the grid:\")\n",
        "# TO DO\n",
        "means = grid_search.cv_results_['mean_test_score']\n",
        "params = grid_search.cv_results_['params']\n",
        "for i in range(len(means)):\n",
        "    print(params[i], ' :', means[i])\n",
        "\n",
        "# Set the parameters for the polynomial kernel with degree 2\n",
        "parameters = {'C': [1, 10, 100], 'gamma': [0.01, 0.1, 1.]}\n",
        "# Create a polynomial kernel with degree 2 SVM object\n",
        "poly2_SVM = SVC(kernel='poly', degree=2)\n",
        "\n",
        "# TO DO: Find the best model using 5-fold cross-validation and train it using all the training data\n",
        "grid_search = GridSearchCV(poly2_SVM, parameters, cv=5)\n",
        "grid_search.fit(X_train, y_train)\n",
        "best_model = grid_search.best_estimator_\n",
        "\n",
        "# Print the results for the polynomial kernel with degree 2\n",
        "print('\\nRESULTS FOR POLY DEGREE=2 KERNEL\\n')\n",
        "\n",
        "print(\"Best parameters set found:\")\n",
        "# TO DO\n",
        "print(grid_search.best_params_)\n",
        "\n",
        "print(\"Score with best parameters:\")\n",
        "# TO DO\n",
        "print(grid_search.best_score_)\n",
        "\n",
        "print(\"\\nAll scores on the grid:\")\n",
        "# TO DO\n",
        "means = grid_search.cv_results_['mean_test_score']\n",
        "params = grid_search.cv_results_['params']\n",
        "for i in range(len(means)):\n",
        "    print(params[i], ' :', means[i])\n",
        "\n",
        "# Set the parameters for the RBF kernel\n",
        "parameters = {'C': [1, 10, 100], 'gamma': [0.01, 0.1, 1.]}\n",
        "\n",
        "# Create an RBF kernel SVM object\n",
        "rbf_SVM = SVC(kernel='rbf')\n",
        "\n",
        "# TO DO: Find the best model using 5-fold cross-validation and train it using all the training data\n",
        "grid_search = GridSearchCV(rbf_SVM, parameters, cv=5)\n",
        "grid_search.fit(X_train, y_train)\n",
        "best_model = grid_search.best_estimator_\n",
        "\n",
        "# Print the results for the RBF kernel\n",
        "print('\\nRESULTS FOR RBF KERNEL\\n')\n",
        "\n",
        "print(\"Best parameters set found:\")\n",
        "# TO DO\n",
        "print(grid_search.best_params_)\n",
        "\n",
        "print(\"Score with best parameters:\")\n",
        "# TO DO\n",
        "print(grid_search.best_score_)\n",
        "\n",
        "print(\"\\nAll scores on the grid:\")\n",
        "# TO DO\n",
        "means = grid_search.cv_results_['mean_test_score']\n",
        "params = grid_search.cv_results_['params']\n",
        "for i in range(len(means)):\n",
        "    print(params[i], ' :', means[i])"
      ],
      "metadata": {
        "id": "49FHb1CKuSa2",
        "colab": {
          "base_uri": "https://localhost:8080/"
        },
        "outputId": "7707c9e5-5d65-461b-d2a5-9a9ee3adc14c"
      },
      "execution_count": 17,
      "outputs": [
        {
          "output_type": "stream",
          "name": "stdout",
          "text": [
            "RESULTS FOR LINEAR KERNEL\n",
            "\n",
            "Best parameters set found:\n",
            "{'C': 1}\n",
            "Score with best parameters:\n",
            "0.876\n",
            "\n",
            "All scores on the grid:\n",
            "{'C': 1}  : 0.876\n",
            "{'C': 10}  : 0.876\n",
            "{'C': 100}  : 0.876\n",
            "\n",
            "RESULTS FOR POLY DEGREE=2 KERNEL\n",
            "\n",
            "Best parameters set found:\n",
            "{'C': 1, 'gamma': 0.1}\n",
            "Score with best parameters:\n",
            "0.85\n",
            "\n",
            "All scores on the grid:\n",
            "{'C': 1, 'gamma': 0.01}  : 0.8400000000000001\n",
            "{'C': 1, 'gamma': 0.1}  : 0.85\n",
            "{'C': 1, 'gamma': 1.0}  : 0.85\n",
            "{'C': 10, 'gamma': 0.01}  : 0.8459999999999999\n",
            "{'C': 10, 'gamma': 0.1}  : 0.85\n",
            "{'C': 10, 'gamma': 1.0}  : 0.85\n",
            "{'C': 100, 'gamma': 0.01}  : 0.85\n",
            "{'C': 100, 'gamma': 0.1}  : 0.85\n",
            "{'C': 100, 'gamma': 1.0}  : 0.85\n",
            "\n",
            "RESULTS FOR RBF KERNEL\n",
            "\n",
            "Best parameters set found:\n",
            "{'C': 1, 'gamma': 0.01}\n",
            "Score with best parameters:\n",
            "0.882\n",
            "\n",
            "All scores on the grid:\n",
            "{'C': 1, 'gamma': 0.01}  : 0.882\n",
            "{'C': 1, 'gamma': 0.1}  : 0.442\n",
            "{'C': 1, 'gamma': 1.0}  : 0.124\n",
            "{'C': 10, 'gamma': 0.01}  : 0.882\n",
            "{'C': 10, 'gamma': 0.1}  : 0.4779999999999999\n",
            "{'C': 10, 'gamma': 1.0}  : 0.124\n",
            "{'C': 100, 'gamma': 0.01}  : 0.882\n",
            "{'C': 100, 'gamma': 0.1}  : 0.4779999999999999\n",
            "{'C': 100, 'gamma': 1.0}  : 0.124\n"
          ]
        }
      ]
    },
    {
      "cell_type": "markdown",
      "metadata": {
        "id": "sECvVFNvnXg6"
      },
      "source": [
        "## Section 2\n",
        "For the \"best\" SVM kernel and choice of parameters from above, train the model on the entire training set and measure the training error. Also make predictions on the test set and measure the test error. Print the training and the test error."
      ]
    },
    {
      "cell_type": "code",
      "execution_count": 18,
      "metadata": {
        "id": "sk0mqc0QnXg6",
        "colab": {
          "base_uri": "https://localhost:8080/"
        },
        "outputId": "c29d101d-c117-4e59-abe4-8c23fdbddcdb"
      },
      "outputs": [
        {
          "output_type": "stream",
          "name": "stdout",
          "text": [
            "Best SVM training error: 0.000000\n",
            "Best SVM test error: 0.106345\n"
          ]
        }
      ],
      "source": [
        "# Get the best SVM model from cross-validation\n",
        "best_SVM = SVC(C=10, kernel='rbf', gamma=0.01)# TO DO\n",
        "\n",
        "# Fit the model on the entire training set\n",
        "best_SVM.fit(X_train, y_train)\n",
        "\n",
        "# Get the training and test error\n",
        "training_error = 1. - best_SVM.score(X_train, y_train)\n",
        "test_error = 1. - best_SVM.score(X_test, y_test)\n",
        "\n",
        "# Print the training and test error for the best SVM model\n",
        "print(\"Best SVM training error: %f\" % training_error)\n",
        "print(\"Best SVM test error: %f\" % test_error)\n"
      ]
    },
    {
      "cell_type": "markdown",
      "metadata": {
        "id": "-nMoD65fnXg6"
      },
      "source": [
        "## Use logistic regression for comparison\n",
        "\n",
        "## Section 3\n",
        "\n",
        "Just for comparison let's also use logistic regression, first with the default values of the parameter for regularization and then with cross-validation to fix the value of the parameter. For cross validation, use 5-fold cross validation and the default values of the regularization parameters for the function linear_model.LogisticRegressionCV(...)"
      ]
    },
    {
      "cell_type": "code",
      "source": [
        "from sklearn import linear_model\n",
        "\n",
        "# Create a logistic regression object\n",
        "lr = linear_model.LogisticRegression()\n",
        "\n",
        "# TODO: Fit the model on the training data\n",
        "# ADD CODE\n",
        "lr.fit(X_train, y_train)\n",
        "\n",
        "# Compute the training and test error for the logistic regression model\n",
        "training_error = 1. - lr.score(X_train, y_train) # TODO\n",
        "test_error =  1. - lr.score(X_test, y_test) #TODO\n",
        "\n",
        "print(\"Best logistic regression training error: %f\" % training_error)\n",
        "print(\"Best logistic regression test error: %f\" % test_error)\n",
        "\n",
        "# Use logistic regression with 5-fold cross-validation\n",
        "# You can use linear_model.LogisticRegressionCV\n",
        "# Use 5-fold cross-validation to find the best choice of the parameter, then train\n",
        "# the model on the entire training set\n",
        "\n",
        "\n",
        "lr_cv = linear_model.LogisticRegressionCV(cv = 5)# TODO\n",
        "lr_cv.fit(X_train, y_train)\n",
        "\n",
        "training_error_cv = 1 - lr_cv.score(X_train, y_train)# TODO\n",
        "test_error_cv = 1 - lr_cv.score(X_test, y_test) # TODO\n",
        "\n",
        "print(\"Best logistic regression training error: %f\" % training_error_cv)\n",
        "print(\"Best logistic regression test error: %f\" % test_error_cv)\n"
      ],
      "metadata": {
        "id": "lHBdJ76QtwDB",
        "colab": {
          "base_uri": "https://localhost:8080/"
        },
        "outputId": "0ca4273a-35bc-4b11-ddc7-1b133862afac"
      },
      "execution_count": 19,
      "outputs": [
        {
          "output_type": "stream",
          "name": "stderr",
          "text": [
            "/usr/local/lib/python3.10/dist-packages/sklearn/linear_model/_logistic.py:458: ConvergenceWarning: lbfgs failed to converge (status=1):\n",
            "STOP: TOTAL NO. of ITERATIONS REACHED LIMIT.\n",
            "\n",
            "Increase the number of iterations (max_iter) or scale the data as shown in:\n",
            "    https://scikit-learn.org/stable/modules/preprocessing.html\n",
            "Please also refer to the documentation for alternative solver options:\n",
            "    https://scikit-learn.org/stable/modules/linear_model.html#logistic-regression\n",
            "  n_iter_i = _check_optimize_result(\n"
          ]
        },
        {
          "output_type": "stream",
          "name": "stdout",
          "text": [
            "Best logistic regression training error: 0.000000\n",
            "Best logistic regression test error: 0.158604\n"
          ]
        },
        {
          "output_type": "stream",
          "name": "stderr",
          "text": [
            "/usr/local/lib/python3.10/dist-packages/sklearn/linear_model/_logistic.py:458: ConvergenceWarning: lbfgs failed to converge (status=1):\n",
            "STOP: TOTAL NO. of ITERATIONS REACHED LIMIT.\n",
            "\n",
            "Increase the number of iterations (max_iter) or scale the data as shown in:\n",
            "    https://scikit-learn.org/stable/modules/preprocessing.html\n",
            "Please also refer to the documentation for alternative solver options:\n",
            "    https://scikit-learn.org/stable/modules/linear_model.html#logistic-regression\n",
            "  n_iter_i = _check_optimize_result(\n",
            "/usr/local/lib/python3.10/dist-packages/sklearn/linear_model/_logistic.py:458: ConvergenceWarning: lbfgs failed to converge (status=1):\n",
            "STOP: TOTAL NO. of ITERATIONS REACHED LIMIT.\n",
            "\n",
            "Increase the number of iterations (max_iter) or scale the data as shown in:\n",
            "    https://scikit-learn.org/stable/modules/preprocessing.html\n",
            "Please also refer to the documentation for alternative solver options:\n",
            "    https://scikit-learn.org/stable/modules/linear_model.html#logistic-regression\n",
            "  n_iter_i = _check_optimize_result(\n",
            "/usr/local/lib/python3.10/dist-packages/sklearn/linear_model/_logistic.py:458: ConvergenceWarning: lbfgs failed to converge (status=1):\n",
            "STOP: TOTAL NO. of ITERATIONS REACHED LIMIT.\n",
            "\n",
            "Increase the number of iterations (max_iter) or scale the data as shown in:\n",
            "    https://scikit-learn.org/stable/modules/preprocessing.html\n",
            "Please also refer to the documentation for alternative solver options:\n",
            "    https://scikit-learn.org/stable/modules/linear_model.html#logistic-regression\n",
            "  n_iter_i = _check_optimize_result(\n",
            "/usr/local/lib/python3.10/dist-packages/sklearn/linear_model/_logistic.py:458: ConvergenceWarning: lbfgs failed to converge (status=1):\n",
            "STOP: TOTAL NO. of ITERATIONS REACHED LIMIT.\n",
            "\n",
            "Increase the number of iterations (max_iter) or scale the data as shown in:\n",
            "    https://scikit-learn.org/stable/modules/preprocessing.html\n",
            "Please also refer to the documentation for alternative solver options:\n",
            "    https://scikit-learn.org/stable/modules/linear_model.html#logistic-regression\n",
            "  n_iter_i = _check_optimize_result(\n",
            "/usr/local/lib/python3.10/dist-packages/sklearn/linear_model/_logistic.py:458: ConvergenceWarning: lbfgs failed to converge (status=1):\n",
            "STOP: TOTAL NO. of ITERATIONS REACHED LIMIT.\n",
            "\n",
            "Increase the number of iterations (max_iter) or scale the data as shown in:\n",
            "    https://scikit-learn.org/stable/modules/preprocessing.html\n",
            "Please also refer to the documentation for alternative solver options:\n",
            "    https://scikit-learn.org/stable/modules/linear_model.html#logistic-regression\n",
            "  n_iter_i = _check_optimize_result(\n",
            "/usr/local/lib/python3.10/dist-packages/sklearn/linear_model/_logistic.py:458: ConvergenceWarning: lbfgs failed to converge (status=1):\n",
            "STOP: TOTAL NO. of ITERATIONS REACHED LIMIT.\n",
            "\n",
            "Increase the number of iterations (max_iter) or scale the data as shown in:\n",
            "    https://scikit-learn.org/stable/modules/preprocessing.html\n",
            "Please also refer to the documentation for alternative solver options:\n",
            "    https://scikit-learn.org/stable/modules/linear_model.html#logistic-regression\n",
            "  n_iter_i = _check_optimize_result(\n"
          ]
        },
        {
          "output_type": "stream",
          "name": "stdout",
          "text": [
            "Best logistic regression training error: 0.000000\n",
            "Best logistic regression test error: 0.163295\n"
          ]
        }
      ]
    },
    {
      "cell_type": "markdown",
      "metadata": {
        "id": "D1zBeUFYnXg8"
      },
      "source": [
        "## Section 4\n",
        "Compare and comment the results from SVM and logistic regression.\n",
        "When comparing the results from Support Vector Machines (SVM) and Logistic Regression, there are a few factors to consider. Let's discuss them one by one.\n",
        "\n",
        "1. Performance: Both SVM and Logistic Regression are popular classification algorithms, but their performance can vary depending on the dataset and problem at hand. SVM tends to work well in cases where the decision boundary is non-linear or when there is a clear separation between classes. On the other hand, Logistic Regression is often used when the decision boundary is linear or when the classes are well-separated. It's important to evaluate the performance of both algorithms on your specific dataset to determine which one is more suitable.\n",
        "\n",
        "2. Interpretability: Logistic Regression is known for its interpretability. The coefficients obtained from Logistic Regression can be directly interpreted as the impact of each feature on the predicted outcome. These coefficients can provide insights into the relationship between the features and the target variable. SVM, on the other hand, is not as interpretable as Logistic Regression. It relies on the support vectors to define the decision boundary and does not provide direct insight into the feature importance.\n",
        "\n",
        "3. Robustness to outliers: SVM is generally less sensitive to outliers compared to Logistic Regression. SVM tries to find the best decision boundary by maximizing the margin between classes, which reduces the impact of outliers. Logistic Regression, on the other hand, is more influenced by outliers as it tries to fit the data using a probabilistic approach. If your dataset contains outliers, SVM might be a better choice.\n",
        "\n",
        "4. Scalability: Logistic Regression is computationally less expensive compared to SVM, especially when the number of features or data points is large. SVM, particularly the kernel-based SVM, can be computationally expensive and memory-intensive. If you have a large dataset, Logistic Regression might be more practical in terms of computation time and resource usage.\n",
        "\n",
        "5. Regularization: Both SVM and Logistic Regression can handle regularization to prevent overfitting. In Logistic Regression, regularization is typically applied through the L1 or L2 penalty on the coefficients. In SVM, regularization is achieved through the C parameter, which controls the trade-off between maximizing the margin and minimizing the classification error. Regularization helps in controlling model complexity and improving generalization.\n",
        "\n",
        "In our dataframe, logistic regression is better than SVM."
      ]
    },
    {
      "cell_type": "markdown",
      "metadata": {
        "id": "tjEGnvoynXg8"
      },
      "source": [
        "## Section 5\n",
        "Write the code that finds and plots a digit that is missclassified by logistic regression (optimized for the regularization parameter) and correctly classified by the \"best\" SVM."
      ]
    },
    {
      "cell_type": "code",
      "execution_count": 21,
      "metadata": {
        "id": "md8_fNFxnXg8",
        "colab": {
          "base_uri": "https://localhost:8080/",
          "height": 1000
        },
        "outputId": "39e747e4-24f4-41b4-a736-42116f39cb56"
      },
      "outputs": [
        {
          "output_type": "stream",
          "name": "stderr",
          "text": [
            "/usr/local/lib/python3.10/dist-packages/sklearn/linear_model/_logistic.py:458: ConvergenceWarning: lbfgs failed to converge (status=1):\n",
            "STOP: TOTAL NO. of ITERATIONS REACHED LIMIT.\n",
            "\n",
            "Increase the number of iterations (max_iter) or scale the data as shown in:\n",
            "    https://scikit-learn.org/stable/modules/preprocessing.html\n",
            "Please also refer to the documentation for alternative solver options:\n",
            "    https://scikit-learn.org/stable/modules/linear_model.html#logistic-regression\n",
            "  n_iter_i = _check_optimize_result(\n",
            "/usr/local/lib/python3.10/dist-packages/sklearn/linear_model/_logistic.py:458: ConvergenceWarning: lbfgs failed to converge (status=1):\n",
            "STOP: TOTAL NO. of ITERATIONS REACHED LIMIT.\n",
            "\n",
            "Increase the number of iterations (max_iter) or scale the data as shown in:\n",
            "    https://scikit-learn.org/stable/modules/preprocessing.html\n",
            "Please also refer to the documentation for alternative solver options:\n",
            "    https://scikit-learn.org/stable/modules/linear_model.html#logistic-regression\n",
            "  n_iter_i = _check_optimize_result(\n",
            "/usr/local/lib/python3.10/dist-packages/sklearn/linear_model/_logistic.py:458: ConvergenceWarning: lbfgs failed to converge (status=1):\n",
            "STOP: TOTAL NO. of ITERATIONS REACHED LIMIT.\n",
            "\n",
            "Increase the number of iterations (max_iter) or scale the data as shown in:\n",
            "    https://scikit-learn.org/stable/modules/preprocessing.html\n",
            "Please also refer to the documentation for alternative solver options:\n",
            "    https://scikit-learn.org/stable/modules/linear_model.html#logistic-regression\n",
            "  n_iter_i = _check_optimize_result(\n",
            "/usr/local/lib/python3.10/dist-packages/sklearn/linear_model/_logistic.py:458: ConvergenceWarning: lbfgs failed to converge (status=1):\n",
            "STOP: TOTAL NO. of ITERATIONS REACHED LIMIT.\n",
            "\n",
            "Increase the number of iterations (max_iter) or scale the data as shown in:\n",
            "    https://scikit-learn.org/stable/modules/preprocessing.html\n",
            "Please also refer to the documentation for alternative solver options:\n",
            "    https://scikit-learn.org/stable/modules/linear_model.html#logistic-regression\n",
            "  n_iter_i = _check_optimize_result(\n",
            "/usr/local/lib/python3.10/dist-packages/sklearn/linear_model/_logistic.py:458: ConvergenceWarning: lbfgs failed to converge (status=1):\n",
            "STOP: TOTAL NO. of ITERATIONS REACHED LIMIT.\n",
            "\n",
            "Increase the number of iterations (max_iter) or scale the data as shown in:\n",
            "    https://scikit-learn.org/stable/modules/preprocessing.html\n",
            "Please also refer to the documentation for alternative solver options:\n",
            "    https://scikit-learn.org/stable/modules/linear_model.html#logistic-regression\n",
            "  n_iter_i = _check_optimize_result(\n",
            "/usr/local/lib/python3.10/dist-packages/sklearn/linear_model/_logistic.py:458: ConvergenceWarning: lbfgs failed to converge (status=1):\n",
            "STOP: TOTAL NO. of ITERATIONS REACHED LIMIT.\n",
            "\n",
            "Increase the number of iterations (max_iter) or scale the data as shown in:\n",
            "    https://scikit-learn.org/stable/modules/preprocessing.html\n",
            "Please also refer to the documentation for alternative solver options:\n",
            "    https://scikit-learn.org/stable/modules/linear_model.html#logistic-regression\n",
            "  n_iter_i = _check_optimize_result(\n"
          ]
        },
        {
          "output_type": "stream",
          "name": "stdout",
          "text": [
            "INPUT:\n"
          ]
        },
        {
          "output_type": "display_data",
          "data": {
            "text/plain": [
              "<Figure size 640x480 with 1 Axes>"
            ],
            "image/png": "[encoded data removed]"
          },
          "metadata": {}
        },
        {
          "output_type": "stream",
          "name": "stdout",
          "text": [
            "LABEL: 6\n",
            "INPUT:\n"
          ]
        },
        {
          "output_type": "display_data",
          "data": {
            "text/plain": [
              "<Figure size 640x480 with 1 Axes>"
            ],
            "image/png": "[encoded data removed]"
          },
          "metadata": {}
        },
        {
          "output_type": "stream",
          "name": "stdout",
          "text": [
            "LABEL: 5\n",
            "INPUT:\n"
          ]
        },
        {
          "output_type": "display_data",
          "data": {
            "text/plain": [
              "<Figure size 640x480 with 1 Axes>"
            ],
            "image/png": "[encoded data removed]"
          },
          "metadata": {}
        },
        {
          "output_type": "stream",
          "name": "stdout",
          "text": [
            "LABEL: 6\n"
          ]
        }
      ],
      "source": [
        "# ADD CODE\n",
        "import numpy as np\n",
        "from sklearn import linear_model\n",
        "\n",
        "lr_cv = linear_model.LogisticRegressionCV(cv = 5)# TODO\n",
        "lr_cv.fit(X_train, y_train)\n",
        "y_pred_lrcv = lr_cv.predict(X_test)\n",
        "y_pred_lrcv = np.array([int(num) for num in y_pred_lrcv])\n",
        "\n",
        "best_SVM = SVC(C=10, kernel='rbf', gamma=0.01)\n",
        "best_SVM.fit(X_train, y_train)\n",
        "y_pred_SVM = best_SVM.predict(X_test)\n",
        "y_pred_SVM = np.array([int(num) for num in y_pred_SVM])\n",
        "\n",
        "y_test = np.array([int(num) for num in y_test])\n",
        "temp = y_pred_lrcv - y_test\n",
        "temp = temp * temp\n",
        "indices1 = np.where(temp != 0)\n",
        "\n",
        "temp = y_pred_SVM - y_test\n",
        "temp = temp * temp\n",
        "indices2 = np.where(temp == 0)\n",
        "\n",
        "common_values = np.intersect1d(indices1, indices2)\n",
        "\n",
        "plot_digit(X_test, y_test, common_values[0])\n",
        "plot_digit(X_test, y_pred_lrcv, common_values[0])\n",
        "plot_digit(X_test, y_pred_SVM, common_values[0])"
      ]
    },
    {
      "cell_type": "markdown",
      "metadata": {
        "id": "xrWB8rZvnXg9"
      },
      "source": [
        "## More data\n",
        "Now let's do the same but using 1000 data points for training.\n",
        "\n",
        "## Section 6\n",
        "Repeat the entire analysis above using 1000 samples. Of course you can copy the code from above."
      ]
    },
    {
      "cell_type": "code",
      "source": [
        "\n",
        "# Randomly permute the data and split it into training and test sets, taking the first 500\n",
        "# data samples as training and the rest as test.\n",
        "permutation = np.random.permutation(X.shape[0])\n",
        "\n",
        "X = X[permutation]\n",
        "y = y[permutation]\n",
        "\n",
        "m_training = 1000\n",
        "\n",
        "X_train, X_test = X[:m_training], X[m_training:]\n",
        "y_train, y_test = y[:m_training], y[m_training:]\n",
        "\n",
        "# Print the labels and their frequencies in the training dataset.\n",
        "print(\"Labels and their frequencies in the training dataset: \")\n",
        "unique_labels, label_counts = np.unique(y_train, return_counts=True)\n",
        "for label, count in zip(unique_labels, label_counts):\n",
        "    print(f\"{label}: {count}\")"
      ],
      "metadata": {
        "colab": {
          "base_uri": "https://localhost:8080/"
        },
        "id": "xdcOFXUOl7k0",
        "outputId": "666a8f5c-890f-43f8-d177-6761014966c5"
      },
      "execution_count": 22,
      "outputs": [
        {
          "output_type": "stream",
          "name": "stdout",
          "text": [
            "Labels and their frequencies in the training dataset: \n",
            "0: 85\n",
            "1: 121\n",
            "2: 91\n",
            "3: 111\n",
            "4: 120\n",
            "5: 78\n",
            "6: 99\n",
            "7: 114\n",
            "8: 91\n",
            "9: 90\n"
          ]
        }
      ]
    },
    {
      "cell_type": "code",
      "source": [
        "# Import the Support Vector Classifier (SVC) and GridSearchCV modules\n",
        "from sklearn.svm import SVC\n",
        "from sklearn.model_selection import GridSearchCV\n",
        "\n",
        "# Set the parameters for the linear SVM\n",
        "parameters = {'C': [1, 10, 100]}\n",
        "\n",
        "# Create a linear SVM object\n",
        "linear_SVM = SVC(kernel='linear')\n",
        "\n",
        "# TO DO: Find the best model using 5-fold cross-validation and train it using all the training data\n",
        "grid_search = GridSearchCV(linear_SVM, parameters, cv=5)\n",
        "grid_search.fit(X_train, y_train)\n",
        "best_model = grid_search.best_estimator_\n",
        "\n",
        "# Print the results for the linear kernel\n",
        "print('RESULTS FOR LINEAR KERNEL\\n')\n",
        "\n",
        "print(\"Best parameters set found:\")\n",
        "# TO DO\n",
        "print(grid_search.best_params_)\n",
        "\n",
        "print(\"Score with best parameters:\")\n",
        "# TO DO\n",
        "print(grid_search.best_score_)\n",
        "\n",
        "print(\"\\nAll scores on the grid:\")\n",
        "# TO DO\n",
        "means = grid_search.cv_results_['mean_test_score']\n",
        "params = grid_search.cv_results_['params']\n",
        "for i in range(len(means)):\n",
        "    print(params[i], ' :', means[i])\n",
        "\n",
        "# Set the parameters for the polynomial kernel with degree 2\n",
        "parameters = {'C': [1, 10, 100], 'gamma': [0.01, 0.1, 1.]}\n",
        "# Create a polynomial kernel with degree 2 SVM object\n",
        "poly2_SVM = SVC(kernel='poly', degree=2)\n",
        "\n",
        "# TO DO: Find the best model using 5-fold cross-validation and train it using all the training data\n",
        "grid_search = GridSearchCV(poly2_SVM, parameters, cv=5)\n",
        "grid_search.fit(X_train, y_train)\n",
        "best_model = grid_search.best_estimator_\n",
        "\n",
        "# Print the results for the polynomial kernel with degree 2\n",
        "print('\\nRESULTS FOR POLY DEGREE=2 KERNEL\\n')\n",
        "\n",
        "print(\"Best parameters set found:\")\n",
        "# TO DO\n",
        "print(grid_search.best_params_)\n",
        "\n",
        "print(\"Score with best parameters:\")\n",
        "# TO DO\n",
        "print(grid_search.best_score_)\n",
        "\n",
        "print(\"\\nAll scores on the grid:\")\n",
        "# TO DO\n",
        "means = grid_search.cv_results_['mean_test_score']\n",
        "params = grid_search.cv_results_['params']\n",
        "for i in range(len(means)):\n",
        "    print(params[i], ' :', means[i])\n",
        "\n",
        "# Set the parameters for the RBF kernel\n",
        "parameters = {'C': [1, 10, 100], 'gamma': [0.01, 0.1, 1.]}\n",
        "\n",
        "# Create an RBF kernel SVM object\n",
        "rbf_SVM = SVC(kernel='rbf')\n",
        "\n",
        "# TO DO: Find the best model using 5-fold cross-validation and train it using all the training data\n",
        "grid_search = GridSearchCV(rbf_SVM, parameters, cv=5)\n",
        "grid_search.fit(X_train, y_train)\n",
        "best_model = grid_search.best_estimator_\n",
        "\n",
        "# Print the results for the RBF kernel\n",
        "print('\\nRESULTS FOR RBF KERNEL\\n')\n",
        "\n",
        "print(\"Best parameters set found:\")\n",
        "# TO DO\n",
        "print(grid_search.best_params_)\n",
        "\n",
        "print(\"Score with best parameters:\")\n",
        "# TO DO\n",
        "print(grid_search.best_score_)\n",
        "\n",
        "print(\"\\nAll scores on the grid:\")\n",
        "# TO DO\n",
        "means = grid_search.cv_results_['mean_test_score']\n",
        "params = grid_search.cv_results_['params']\n",
        "for i in range(len(means)):\n",
        "    print(params[i], ' :', means[i])"
      ],
      "metadata": {
        "colab": {
          "base_uri": "https://localhost:8080/"
        },
        "id": "4NGkjj9-mBV1",
        "outputId": "19b00c85-c29f-4945-e02a-c5ff1d5fed39"
      },
      "execution_count": 23,
      "outputs": [
        {
          "output_type": "stream",
          "name": "stdout",
          "text": [
            "RESULTS FOR LINEAR KERNEL\n",
            "\n",
            "Best parameters set found:\n",
            "{'C': 1}\n",
            "Score with best parameters:\n",
            "0.861\n",
            "\n",
            "All scores on the grid:\n",
            "{'C': 1}  : 0.861\n",
            "{'C': 10}  : 0.861\n",
            "{'C': 100}  : 0.861\n",
            "\n",
            "RESULTS FOR POLY DEGREE=2 KERNEL\n",
            "\n",
            "Best parameters set found:\n",
            "{'C': 1, 'gamma': 0.1}\n",
            "Score with best parameters:\n",
            "0.8799999999999999\n",
            "\n",
            "All scores on the grid:\n",
            "{'C': 1, 'gamma': 0.01}  : 0.853\n",
            "{'C': 1, 'gamma': 0.1}  : 0.8799999999999999\n",
            "{'C': 1, 'gamma': 1.0}  : 0.8799999999999999\n",
            "{'C': 10, 'gamma': 0.01}  : 0.8799999999999999\n",
            "{'C': 10, 'gamma': 0.1}  : 0.8799999999999999\n",
            "{'C': 10, 'gamma': 1.0}  : 0.8799999999999999\n",
            "{'C': 100, 'gamma': 0.01}  : 0.8799999999999999\n",
            "{'C': 100, 'gamma': 0.1}  : 0.8799999999999999\n",
            "{'C': 100, 'gamma': 1.0}  : 0.8799999999999999\n",
            "\n",
            "RESULTS FOR RBF KERNEL\n",
            "\n",
            "Best parameters set found:\n",
            "{'C': 10, 'gamma': 0.01}\n",
            "Score with best parameters:\n",
            "0.898\n",
            "\n",
            "All scores on the grid:\n",
            "{'C': 1, 'gamma': 0.01}  : 0.889\n",
            "{'C': 1, 'gamma': 0.1}  : 0.568\n",
            "{'C': 1, 'gamma': 1.0}  : 0.177\n",
            "{'C': 10, 'gamma': 0.01}  : 0.898\n",
            "{'C': 10, 'gamma': 0.1}  : 0.609\n",
            "{'C': 10, 'gamma': 1.0}  : 0.184\n",
            "{'C': 100, 'gamma': 0.01}  : 0.898\n",
            "{'C': 100, 'gamma': 0.1}  : 0.609\n",
            "{'C': 100, 'gamma': 1.0}  : 0.184\n"
          ]
        }
      ]
    },
    {
      "cell_type": "code",
      "source": [
        "# Get the best SVM model from cross-validation\n",
        "best_SVM = SVC(C=100, kernel='rbf', gamma=0.01)# TO DO\n",
        "\n",
        "# Fit the model on the entire training set\n",
        "best_SVM.fit(X_train, y_train)\n",
        "\n",
        "# Get the training and test error\n",
        "training_error = 1. - best_SVM.score(X_train, y_train)\n",
        "test_error = 1. - best_SVM.score(X_test, y_test)\n",
        "\n",
        "# Print the training and test error for the best SVM model\n",
        "print(\"Best SVM training error: %f\" % training_error)\n",
        "print(\"Best SVM test error: %f\" % test_error)"
      ],
      "metadata": {
        "colab": {
          "base_uri": "https://localhost:8080/"
        },
        "id": "LPI_Oj16mPBA",
        "outputId": "6c2febe6-e6ac-49bc-a9af-f615d01cdd3b"
      },
      "execution_count": 24,
      "outputs": [
        {
          "output_type": "stream",
          "name": "stdout",
          "text": [
            "Best SVM training error: 0.000000\n",
            "Best SVM test error: 0.082275\n"
          ]
        }
      ]
    },
    {
      "cell_type": "code",
      "source": [
        "from sklearn import linear_model\n",
        "\n",
        "# Create a logistic regression object\n",
        "lr = linear_model.LogisticRegression()\n",
        "\n",
        "# TODO: Fit the model on the training data\n",
        "# ADD CODE\n",
        "lr.fit(X_train, y_train)\n",
        "\n",
        "# Compute the training and test error for the logistic regression model\n",
        "training_error = 1. - lr.score(X_train, y_train) # TODO\n",
        "test_error =  1. - lr.score(X_test, y_test) #TODO\n",
        "\n",
        "print(\"Best logistic regression training error: %f\" % training_error)\n",
        "print(\"Best logistic regression test error: %f\" % test_error)\n",
        "\n",
        "# Use logistic regression with 5-fold cross-validation\n",
        "# You can use linear_model.LogisticRegressionCV\n",
        "# Use 5-fold cross-validation to find the best choice of the parameter, then train\n",
        "# the model on the entire training set\n",
        "\n",
        "\n",
        "lr_cv = linear_model.LogisticRegressionCV(cv = 5)# TODO\n",
        "lr_cv.fit(X_train, y_train)\n",
        "\n",
        "training_error_cv = 1 - lr_cv.score(X_train, y_train)# TODO\n",
        "test_error_cv = 1 - lr_cv.score(X_test, y_test) # TODO\n",
        "\n",
        "print(\"Best logistic regression training error: %f\" % training_error_cv)\n",
        "print(\"Best logistic regression test error: %f\" % test_error_cv)"
      ],
      "metadata": {
        "colab": {
          "base_uri": "https://localhost:8080/"
        },
        "id": "h619iLagmSzK",
        "outputId": "8e5daf1f-706c-45f3-a35f-11b6107ab7ea"
      },
      "execution_count": 26,
      "outputs": [
        {
          "output_type": "stream",
          "name": "stderr",
          "text": [
            "/usr/local/lib/python3.10/dist-packages/sklearn/linear_model/_logistic.py:458: ConvergenceWarning: lbfgs failed to converge (status=1):\n",
            "STOP: TOTAL NO. of ITERATIONS REACHED LIMIT.\n",
            "\n",
            "Increase the number of iterations (max_iter) or scale the data as shown in:\n",
            "    https://scikit-learn.org/stable/modules/preprocessing.html\n",
            "Please also refer to the documentation for alternative solver options:\n",
            "    https://scikit-learn.org/stable/modules/linear_model.html#logistic-regression\n",
            "  n_iter_i = _check_optimize_result(\n"
          ]
        },
        {
          "output_type": "stream",
          "name": "stdout",
          "text": [
            "Best logistic regression training error: 0.000000\n",
            "Best logistic regression test error: 0.134565\n"
          ]
        },
        {
          "output_type": "stream",
          "name": "stderr",
          "text": [
            "/usr/local/lib/python3.10/dist-packages/sklearn/linear_model/_logistic.py:458: ConvergenceWarning: lbfgs failed to converge (status=1):\n",
            "STOP: TOTAL NO. of ITERATIONS REACHED LIMIT.\n",
            "\n",
            "Increase the number of iterations (max_iter) or scale the data as shown in:\n",
            "    https://scikit-learn.org/stable/modules/preprocessing.html\n",
            "Please also refer to the documentation for alternative solver options:\n",
            "    https://scikit-learn.org/stable/modules/linear_model.html#logistic-regression\n",
            "  n_iter_i = _check_optimize_result(\n",
            "/usr/local/lib/python3.10/dist-packages/sklearn/linear_model/_logistic.py:458: ConvergenceWarning: lbfgs failed to converge (status=1):\n",
            "STOP: TOTAL NO. of ITERATIONS REACHED LIMIT.\n",
            "\n",
            "Increase the number of iterations (max_iter) or scale the data as shown in:\n",
            "    https://scikit-learn.org/stable/modules/preprocessing.html\n",
            "Please also refer to the documentation for alternative solver options:\n",
            "    https://scikit-learn.org/stable/modules/linear_model.html#logistic-regression\n",
            "  n_iter_i = _check_optimize_result(\n",
            "/usr/local/lib/python3.10/dist-packages/sklearn/linear_model/_logistic.py:458: ConvergenceWarning: lbfgs failed to converge (status=1):\n",
            "STOP: TOTAL NO. of ITERATIONS REACHED LIMIT.\n",
            "\n",
            "Increase the number of iterations (max_iter) or scale the data as shown in:\n",
            "    https://scikit-learn.org/stable/modules/preprocessing.html\n",
            "Please also refer to the documentation for alternative solver options:\n",
            "    https://scikit-learn.org/stable/modules/linear_model.html#logistic-regression\n",
            "  n_iter_i = _check_optimize_result(\n",
            "/usr/local/lib/python3.10/dist-packages/sklearn/linear_model/_logistic.py:458: ConvergenceWarning: lbfgs failed to converge (status=1):\n",
            "STOP: TOTAL NO. of ITERATIONS REACHED LIMIT.\n",
            "\n",
            "Increase the number of iterations (max_iter) or scale the data as shown in:\n",
            "    https://scikit-learn.org/stable/modules/preprocessing.html\n",
            "Please also refer to the documentation for alternative solver options:\n",
            "    https://scikit-learn.org/stable/modules/linear_model.html#logistic-regression\n",
            "  n_iter_i = _check_optimize_result(\n",
            "/usr/local/lib/python3.10/dist-packages/sklearn/linear_model/_logistic.py:458: ConvergenceWarning: lbfgs failed to converge (status=1):\n",
            "STOP: TOTAL NO. of ITERATIONS REACHED LIMIT.\n",
            "\n",
            "Increase the number of iterations (max_iter) or scale the data as shown in:\n",
            "    https://scikit-learn.org/stable/modules/preprocessing.html\n",
            "Please also refer to the documentation for alternative solver options:\n",
            "    https://scikit-learn.org/stable/modules/linear_model.html#logistic-regression\n",
            "  n_iter_i = _check_optimize_result(\n",
            "/usr/local/lib/python3.10/dist-packages/sklearn/linear_model/_logistic.py:458: ConvergenceWarning: lbfgs failed to converge (status=1):\n",
            "STOP: TOTAL NO. of ITERATIONS REACHED LIMIT.\n",
            "\n",
            "Increase the number of iterations (max_iter) or scale the data as shown in:\n",
            "    https://scikit-learn.org/stable/modules/preprocessing.html\n",
            "Please also refer to the documentation for alternative solver options:\n",
            "    https://scikit-learn.org/stable/modules/linear_model.html#logistic-regression\n",
            "  n_iter_i = _check_optimize_result(\n"
          ]
        },
        {
          "output_type": "stream",
          "name": "stdout",
          "text": [
            "Best logistic regression training error: 0.005000\n",
            "Best logistic regression test error: 0.131145\n"
          ]
        }
      ]
    },
    {
      "cell_type": "code",
      "source": [
        "# ADD CODE\n",
        "import numpy as np\n",
        "from sklearn import linear_model\n",
        "\n",
        "lr_cv = linear_model.LogisticRegressionCV(cv = 5)\n",
        "lr_cv.fit(X_train, y_train)\n",
        "y_pred_lrcv = lr_cv.predict(X_test)\n",
        "y_pred_lrcv = np.array([int(num) for num in y_pred_lrcv])\n",
        "\n",
        "best_SVM = SVC(C=10, kernel='rbf', gamma=0.01)\n",
        "best_SVM.fit(X_train, y_train)\n",
        "y_pred_SVM = best_SVM.predict(X_test)\n",
        "y_pred_SVM = np.array([int(num) for num in y_pred_SVM])\n",
        "\n",
        "y_test = np.array([int(num) for num in y_test])\n",
        "temp = y_pred_lrcv - y_test\n",
        "temp = temp * temp\n",
        "indices1 = np.where(temp != 0)\n",
        "\n",
        "temp = y_pred_SVM - y_test\n",
        "temp = temp * temp\n",
        "indices2 = np.where(temp == 0)\n",
        "\n",
        "common_values = np.intersect1d(indices1, indices2)\n",
        "\n",
        "plot_digit(X_test, y_test, common_values[0])\n",
        "plot_digit(X_test, y_pred_lrcv, common_values[0])\n",
        "plot_digit(X_test, y_pred_SVM, common_values[0])"
      ],
      "metadata": {
        "colab": {
          "base_uri": "https://localhost:8080/",
          "height": 1000
        },
        "id": "ONwhZbfzmWGQ",
        "outputId": "b8a0ad2d-4a07-4f45-c31a-e48719ea1074"
      },
      "execution_count": 27,
      "outputs": [
        {
          "output_type": "stream",
          "name": "stderr",
          "text": [
            "/usr/local/lib/python3.10/dist-packages/sklearn/linear_model/_logistic.py:458: ConvergenceWarning: lbfgs failed to converge (status=1):\n",
            "STOP: TOTAL NO. of ITERATIONS REACHED LIMIT.\n",
            "\n",
            "Increase the number of iterations (max_iter) or scale the data as shown in:\n",
            "    https://scikit-learn.org/stable/modules/preprocessing.html\n",
            "Please also refer to the documentation for alternative solver options:\n",
            "    https://scikit-learn.org/stable/modules/linear_model.html#logistic-regression\n",
            "  n_iter_i = _check_optimize_result(\n",
            "/usr/local/lib/python3.10/dist-packages/sklearn/linear_model/_logistic.py:458: ConvergenceWarning: lbfgs failed to converge (status=1):\n",
            "STOP: TOTAL NO. of ITERATIONS REACHED LIMIT.\n",
            "\n",
            "Increase the number of iterations (max_iter) or scale the data as shown in:\n",
            "    https://scikit-learn.org/stable/modules/preprocessing.html\n",
            "Please also refer to the documentation for alternative solver options:\n",
            "    https://scikit-learn.org/stable/modules/linear_model.html#logistic-regression\n",
            "  n_iter_i = _check_optimize_result(\n",
            "/usr/local/lib/python3.10/dist-packages/sklearn/linear_model/_logistic.py:458: ConvergenceWarning: lbfgs failed to converge (status=1):\n",
            "STOP: TOTAL NO. of ITERATIONS REACHED LIMIT.\n",
            "\n",
            "Increase the number of iterations (max_iter) or scale the data as shown in:\n",
            "    https://scikit-learn.org/stable/modules/preprocessing.html\n",
            "Please also refer to the documentation for alternative solver options:\n",
            "    https://scikit-learn.org/stable/modules/linear_model.html#logistic-regression\n",
            "  n_iter_i = _check_optimize_result(\n",
            "/usr/local/lib/python3.10/dist-packages/sklearn/linear_model/_logistic.py:458: ConvergenceWarning: lbfgs failed to converge (status=1):\n",
            "STOP: TOTAL NO. of ITERATIONS REACHED LIMIT.\n",
            "\n",
            "Increase the number of iterations (max_iter) or scale the data as shown in:\n",
            "    https://scikit-learn.org/stable/modules/preprocessing.html\n",
            "Please also refer to the documentation for alternative solver options:\n",
            "    https://scikit-learn.org/stable/modules/linear_model.html#logistic-regression\n",
            "  n_iter_i = _check_optimize_result(\n",
            "/usr/local/lib/python3.10/dist-packages/sklearn/linear_model/_logistic.py:458: ConvergenceWarning: lbfgs failed to converge (status=1):\n",
            "STOP: TOTAL NO. of ITERATIONS REACHED LIMIT.\n",
            "\n",
            "Increase the number of iterations (max_iter) or scale the data as shown in:\n",
            "    https://scikit-learn.org/stable/modules/preprocessing.html\n",
            "Please also refer to the documentation for alternative solver options:\n",
            "    https://scikit-learn.org/stable/modules/linear_model.html#logistic-regression\n",
            "  n_iter_i = _check_optimize_result(\n",
            "/usr/local/lib/python3.10/dist-packages/sklearn/linear_model/_logistic.py:458: ConvergenceWarning: lbfgs failed to converge (status=1):\n",
            "STOP: TOTAL NO. of ITERATIONS REACHED LIMIT.\n",
            "\n",
            "Increase the number of iterations (max_iter) or scale the data as shown in:\n",
            "    https://scikit-learn.org/stable/modules/preprocessing.html\n",
            "Please also refer to the documentation for alternative solver options:\n",
            "    https://scikit-learn.org/stable/modules/linear_model.html#logistic-regression\n",
            "  n_iter_i = _check_optimize_result(\n"
          ]
        },
        {
          "output_type": "stream",
          "name": "stdout",
          "text": [
            "INPUT:\n"
          ]
        },
        {
          "output_type": "display_data",
          "data": {
            "text/plain": [
              "<Figure size 640x480 with 1 Axes>"
            ],
            "image/png": "[encoded data removed]"
          },
          "metadata": {}
        },
        {
          "output_type": "stream",
          "name": "stdout",
          "text": [
            "LABEL: 5\n",
            "INPUT:\n"
          ]
        },
        {
          "output_type": "display_data",
          "data": {
            "text/plain": [
              "<Figure size 640x480 with 1 Axes>"
            ],
            "image/png": "[encoded data removed]"
          },
          "metadata": {}
        },
        {
          "output_type": "stream",
          "name": "stdout",
          "text": [
            "LABEL: 4\n",
            "INPUT:\n"
          ]
        },
        {
          "output_type": "display_data",
          "data": {
            "text/plain": [
              "<Figure size 640x480 with 1 Axes>"
            ],
            "image/png": "[encoded data removed]"
          },
          "metadata": {}
        },
        {
          "output_type": "stream",
          "name": "stdout",
          "text": [
            "LABEL: 5\n"
          ]
        }
      ]
    },
    {
      "cell_type": "markdown",
      "metadata": {
        "id": "0gkWCjdVnXg9"
      },
      "source": [
        "## Section 7\n",
        "Compare and comment on the differences with the results above.\n",
        "\n",
        "We can see the error is reduced because our data is larger than previous section and etc."
      ]
    }
  ],
  "metadata": {
    "kernelspec": {
      "display_name": "Python 3",
      "language": "python",
      "name": "python3"
    },
    "language_info": {
      "codemirror_mode": {
        "name": "ipython",
        "version": 3
      },
      "file_extension": ".py",
      "mimetype": "text/x-python",
      "name": "python",
      "nbconvert_exporter": "python",
      "pygments_lexer": "ipython3",
      "version": "3.8.3"
    },
    "colab": {
      "provenance": []
    }
  },
  "nbformat": 4,
  "nbformat_minor": 0
}